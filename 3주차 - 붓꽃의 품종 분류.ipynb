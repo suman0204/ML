{
 "cells": [
  {
   "cell_type": "markdown",
   "metadata": {},
   "source": [
    "\n",
    "<h1 id=\"0.-Import-libraries\">0. Import libraries<a class=\"anchor-link\" href=\"#0.-Import-libraries\">¶</a></h1>\n"
   ]
  },
  {
   "cell_type": "code",
   "execution_count": 1,
   "metadata": {
    "collapsed": true
   },
   "outputs": [],
   "source": [
    "\n",
    "import numpy as np\n",
    "import pandas as pd\n",
    "\n"
   ]
  },
  {
   "cell_type": "markdown",
   "metadata": {},
   "source": [
    "\n",
    "<h1 id=\"1.-데이터-적재\">1. 데이터 적재<a class=\"anchor-link\" href=\"#1.-데이터-적재\">¶</a></h1><h2 id=\"sepal:-꽃받침,-petal:-꽃잎\">sepal: 꽃받침, petal: 꽃잎<a class=\"anchor-link\" href=\"#sepal:-꽃받침,-petal:-꽃잎\">¶</a></h2>\n"
   ]
  },
  {
   "cell_type": "code",
   "execution_count": 2,
   "metadata": {
    "collapsed": true
   },
   "outputs": [],
   "source": [
    "\n",
    "from sklearn.datasets import load_iris\n",
    "iris_dataset = load_iris()\n",
    "\n"
   ]
  },
  {
   "cell_type": "code",
   "execution_count": 4,
   "metadata": {},
   "outputs": [
    {
     "name": "stdout",
     "output_type": "stream",
     "text": [
      "iris_dataset size:\n",
      " dict_keys(['data', 'target', 'target_names', 'DESCR', 'feature_names'])\n"
     ]
    }
   ],
   "source": [
    "\n",
    "print(\"iris_dataset size:\\n\", iris_dataset.keys())\n"
   ]
  },
  {
   "cell_type": "code",
   "execution_count": 6,
   "metadata": {},
   "outputs": [
    {
     "name": "stdout",
     "output_type": "stream",
     "text": [
      "Iris Plants Database\n",
      "====================\n",
      "\n",
      "Notes\n",
      "-----\n",
      "Data Set Characteristics:\n",
      "    :Number of Instances: 150 (50 in each of three classes)\n",
      "    :Number of Attributes: 4 numeric, predictive att\n",
      "...\n"
     ]
    }
   ],
   "source": [
    "\n",
    "print(iris_dataset['DESCR'][:193] + \"\\n...\")\n"
   ]
  },
  {
   "cell_type": "code",
   "execution_count": 8,
   "metadata": {},
   "outputs": [
    {
     "name": "stdout",
     "output_type": "stream",
     "text": [
      "name of target: ['setosa' 'versicolor' 'virginica']\n",
      "name of feature: ['sepal length (cm)', 'sepal width (cm)', 'petal length (cm)', 'petal width (cm)']\n",
      "type of data <class 'numpy.ndarray'>\n",
      "shape of data (150, 4)\n",
      "first five rows of data\n",
      " [[ 5.1  3.5  1.4  0.2]\n",
      " [ 4.9  3.   1.4  0.2]\n",
      " [ 4.7  3.2  1.3  0.2]\n",
      " [ 4.6  3.1  1.5  0.2]\n",
      " [ 5.   3.6  1.4  0.2]]\n",
      "type of target <class 'numpy.ndarray'>\n",
      "size of target (150,)\n",
      "target: [0 0 0 0 0 0 0 0 0 0 0 0 0 0 0 0 0 0 0 0 0 0 0 0 0 0 0 0 0 0 0 0 0 0 0 0 0\n",
      " 0 0 0 0 0 0 0 0 0 0 0 0 0 1 1 1 1 1 1 1 1 1 1 1 1 1 1 1 1 1 1 1 1 1 1 1 1\n",
      " 1 1 1 1 1 1 1 1 1 1 1 1 1 1 1 1 1 1 1 1 1 1 1 1 1 1 2 2 2 2 2 2 2 2 2 2 2\n",
      " 2 2 2 2 2 2 2 2 2 2 2 2 2 2 2 2 2 2 2 2 2 2 2 2 2 2 2 2 2 2 2 2 2 2 2 2 2\n",
      " 2 2]\n"
     ]
    }
   ],
   "source": [
    "\n",
    "print(\"name of target:\", iris_dataset['target_names'])\n",
    "print(\"name of feature:\", iris_dataset['feature_names'])\n",
    "print(\"type of data\", type(iris_dataset['data']))\n",
    "print(\"shape of data\", iris_dataset['data'].shape)\n",
    "print(\"first five rows of data\\n\",iris_dataset['data'][:5])\n",
    "print(\"type of target\", type(iris_dataset['target']))\n",
    "print(\"size of target\", iris_dataset['target'].shape)\n",
    "print(\"target:\", iris_dataset['target'])\n",
    "\n"
   ]
  },
  {
   "cell_type": "markdown",
   "metadata": {},
   "source": [
    "\n",
    "<h1 id=\"2.-성과-측정:-훈련-데이터(Train-data)와-테스트-데이터(Test-data)\">2. 성과 측정: 훈련 데이터(Train data)와 테스트 데이터(Test data)<a class=\"anchor-link\" href=\"#2.-성과-측정:-훈련-데이터(Train-data)와-테스트-데이터(Test-data)\">¶</a></h1>\n"
   ]
  },
  {
   "cell_type": "code",
   "execution_count": 9,
   "metadata": {
    "collapsed": true
   },
   "outputs": [],
   "source": [
    "\n",
    "from sklearn.model_selection import train_test_split\n",
    "x_train, x_test, y_train, y_test = train_test_split(iris_dataset['data'],\n",
    "                                                    iris_dataset['target'],random_state=0)\n",
    "\n"
   ]
  },
  {
   "cell_type": "code",
   "execution_count": 17,
   "metadata": {},
   "outputs": [
    {
     "name": "stdout",
     "output_type": "stream",
     "text": [
      "size of X_train: (112, 4)\n",
      "size of y_train: (112,)\n"
     ]
    }
   ],
   "source": [
    "\n",
    "print(\"size of X_train:\", x_train.shape) #(# of data * 75%, # of features)\n",
    "print(\"size of y_train:\", y_train.shape) #(# of data * 75%)\n"
   ]
  },
  {
   "cell_type": "code",
   "execution_count": 18,
   "metadata": {},
   "outputs": [
    {
     "name": "stdout",
     "output_type": "stream",
     "text": [
      "size of x_test: (38, 4)\n",
      "size of y_test: (38,)\n"
     ]
    }
   ],
   "source": [
    "\n",
    "print(\"size of x_test:\", x_test.shape)\n",
    "print(\"size of y_test:\", y_test.shape)"
   ]
  },
  {
   "cell_type": "markdown",
   "metadata": {},
   "source": [
    "\n",
    "<h1 id=\"3.-가장-먼저-할-일:-데이터-살펴보기\">3. 가장 먼저 할 일: 데이터 살펴보기<a class=\"anchor-link\" href=\"#3.-가장-먼저-할-일:-데이터-살펴보기\">¶</a></h1>\n"
   ]
  },
  {
   "cell_type": "code",
   "execution_count": 19,
   "metadata": {},
   "outputs": [
    {
     "data": {
      "text/plain": [
       "array([[<matplotlib.axes._subplots.AxesSubplot object at 0x000001A8366355C0>,\n",
       "        <matplotlib.axes._subplots.AxesSubplot object at 0x000001A8366F2470>,\n",
       "        <matplotlib.axes._subplots.AxesSubplot object at 0x000001A83672E358>,\n",
       "        <matplotlib.axes._subplots.AxesSubplot object at 0x000001A836788358>],\n",
       "       [<matplotlib.axes._subplots.AxesSubplot object at 0x000001A8368E6208>,\n",
       "        <matplotlib.axes._subplots.AxesSubplot object at 0x000001A8368E6240>,\n",
       "        <matplotlib.axes._subplots.AxesSubplot object at 0x000001A8369582E8>,\n",
       "        <matplotlib.axes._subplots.AxesSubplot object at 0x000001A8369922E8>],\n",
       "       [<matplotlib.axes._subplots.AxesSubplot object at 0x000001A8369BAE48>,\n",
       "        <matplotlib.axes._subplots.AxesSubplot object at 0x000001A8369F1EB8>,\n",
       "        <matplotlib.axes._subplots.AxesSubplot object at 0x000001A836A2BEB8>,\n",
       "        <matplotlib.axes._subplots.AxesSubplot object at 0x000001A836C93EB8>],\n",
       "       [<matplotlib.axes._subplots.AxesSubplot object at 0x000001A836A4B710>,\n",
       "        <matplotlib.axes._subplots.AxesSubplot object at 0x000001A836D03A58>,\n",
       "        <matplotlib.axes._subplots.AxesSubplot object at 0x000001A836D3D9E8>,\n",
       "        <matplotlib.axes._subplots.AxesSubplot object at 0x000001A836D76908>]], dtype=object)"
      ]
     },
     "execution_count": 19,
     "metadata": {},
     "output_type": "execute_result"
    }
   ],
   "source": [
    "\n",
    "iris_dataframe = pd.DataFrame(x_train, columns = iris_dataset.feature_names)\n",
    "pd.plotting.scatter_matrix(iris_dataframe, c=y_train, figsize=(15,15),marker='o',\n",
    "                          hist_kwds={'bins':20},s=60, alpha=.8)\n",
    "\n"
   ]
  },
  {
   "cell_type": "markdown",
   "metadata": {},
   "source": [
    "\n",
    "<h1 id=\"4.-첫-번째-머신러닝-모델:-k-최근접-이웃-알고리즘\">4. 첫 번째 머신러닝 모델: k-최근접 이웃 알고리즘<a class=\"anchor-link\" href=\"#4.-첫-번째-머신러닝-모델:-k-최근접-이웃-알고리즘\">¶</a></h1>\n"
   ]
  },
  {
   "cell_type": "code",
   "execution_count": 20,
   "metadata": {
    "collapsed": true
   },
   "outputs": [],
   "source": [
    "\n",
    "from sklearn.neighbors import KNeighborsClassifier\n",
    "knn = KNeighborsClassifier(n_neighbors=1)\n",
    "\n"
   ]
  },
  {
   "cell_type": "code",
   "execution_count": 21,
   "metadata": {},
   "outputs": [
    {
     "data": {
      "text/plain": [
       "KNeighborsClassifier(algorithm='auto', leaf_size=30, metric='minkowski',\n",
       "           metric_params=None, n_jobs=1, n_neighbors=1, p=2,\n",
       "           weights='uniform')"
      ]
     },
     "execution_count": 21,
     "metadata": {},
     "output_type": "execute_result"
    }
   ],
   "source": [
    "\n",
    "knn.fit(x_train, y_train)\n",
    "\n"
   ]
  },
  {
   "cell_type": "markdown",
   "metadata": {},
   "source": [
    "\n",
    "<h1 id=\"5.-예측하기\">5. 예측하기<a class=\"anchor-link\" href=\"#5.-예측하기\">¶</a></h1>\n"
   ]
  },
  {
   "cell_type": "code",
   "execution_count": 23,
   "metadata": {},
   "outputs": [
    {
     "name": "stdout",
     "output_type": "stream",
     "text": [
      "x_new.shape: (1, 4)\n"
     ]
    }
   ],
   "source": [
    "\n",
    "x_new = np.array([[5,2.9,1,0.2]])\n",
    "print(\"x_new.shape:\", x_new.shape)\n",
    "\n"
   ]
  },
  {
   "cell_type": "code",
   "execution_count": 24,
   "metadata": {},
   "outputs": [
    {
     "name": "stdout",
     "output_type": "stream",
     "text": [
      "prediction: [0]\n",
      "predicted target name: ['setosa']\n"
     ]
    }
   ],
   "source": [
    "\n",
    "prediction = knn.predict(x_new)\n",
    "print(\"prediction:\",prediction)\n",
    "print(\"predicted target name:\",iris_dataset['target_names'][prediction])\n",
    "\n"
   ]
  },
  {
   "cell_type": "markdown",
   "metadata": {},
   "source": [
    "\n",
    "<h1 id=\"6.-모델-평가하기\">6. 모델 평가하기<a class=\"anchor-link\" href=\"#6.-모델-평가하기\">¶</a></h1>\n"
   ]
  },
  {
   "cell_type": "code",
   "execution_count": 25,
   "metadata": {},
   "outputs": [
    {
     "name": "stdout",
     "output_type": "stream",
     "text": [
      "predicted test dataset:\n",
      " [2 1 0 2 0 2 0 1 1 1 2 1 1 1 1 0 1 1 0 0 2 1 0 0 2 0 0 1 1 0 2 1 0 2 2 1 0\n",
      " 2]\n"
     ]
    }
   ],
   "source": [
    "\n",
    "y_pred = knn.predict(x_test)\n",
    "print(\"predicted test dataset:\\n\", y_pred)\n",
    "\n"
   ]
  },
  {
   "cell_type": "code",
   "execution_count": 26,
   "metadata": {},
   "outputs": [
    {
     "name": "stdout",
     "output_type": "stream",
     "text": [
      "accuracy for test set: 0.97\n"
     ]
    }
   ],
   "source": [
    "\n",
    "print(\"accuracy for test set: {:.2f}\".format(np.mean(y_pred==y_test)))\n",
    "\n"
   ]
  },
  {
   "cell_type": "code",
   "execution_count": null,
   "metadata": {
    "collapsed": true
   },
   "outputs": [],
   "source": [
    "\n",
    " \n",
    "\n"
   ]
  }
 ],
 "metadata": {
  "kernelspec": {
   "display_name": "Python 3",
   "language": "python",
   "name": "python3"
  }
 },
 "nbformat": 4,
 "nbformat_minor": 1
}
