{
 "cells": [
  {
   "cell_type": "code",
   "execution_count": 1,
   "metadata": {
    "collapsed": true
   },
   "outputs": [],
   "source": [
    "import numpy as np"
   ]
  },
  {
   "cell_type": "markdown",
   "metadata": {},
   "source": [
    "\n",
    "<h3 id=\"프린트\">프린트<a class=\"anchor-link\" href=\"#프린트\">¶</a></h3>\n"
   ]
  },
  {
   "cell_type": "code",
   "execution_count": 2,
   "metadata": {},
   "outputs": [
    {
     "name": "stdout",
     "output_type": "stream",
     "text": [
      "Hello, world\n",
      "정수: 3, 03, 003, 0003, 00003\n",
      "실수: 256, 256.1, 256.12\n",
      "문자열: [Hello, world]\n"
     ]
    }
   ],
   "source": [
    "print(\"Hello, world\")\n",
    "\n",
    "# integer \n",
    "x=3\n",
    "print(\"정수: %01d, %02d, %03d, %04d, %05d\" % (x,x,x,x,x))\n",
    "\n",
    "#float\n",
    "x=256.123\n",
    "print(\"실수: %.0f, %.1f, %.2f\" % (x,x,x))\n",
    "\n",
    "#string\n",
    "x=\"Hello, world\"\n",
    "print(\"문자열: [%s]\"%(x))"
   ]
  },
  {
   "cell_type": "markdown",
   "metadata": {},
   "source": [
    "\n",
    "<h3 id=\"반복문,-조건문\">반복문, 조건문<a class=\"anchor-link\" href=\"#반복문,-조건문\">¶</a></h3>\n"
   ]
  },
  {
   "cell_type": "code",
   "execution_count": 3,
   "metadata": {},
   "outputs": [
    {
     "name": "stdout",
     "output_type": "stream",
     "text": [
      "Regression 은(는) 기계학습 내용입니다.\n",
      "Classfication 은(는) 기계학습 내용입니다.\n",
      "SYM 은(는) 기계학습 내용입니다.\n",
      "Clustering 은(는) 기계학습 내용입니다.\n",
      "Demension reduction 은(는) 기계학습 내용입니다.\n",
      "%s은(는) 심층학습내용입니다.\n",
      "CNN 은(는) convolutional neural network 입니다.\n",
      "%s은(는) 심층학습내용입니다.\n",
      "%s은(는) 심층학습내용입니다.\n",
      "%s은(는) 심층학습내용입니다.\n"
     ]
    }
   ],
   "source": [
    "contents = [\"Regression\",\"Classfication\",\"SYM\",\"Clustering\",\"Demension reduction\",\"NN\"\n",
    "           ,\"CNN\",\"AE\",\"GAN\",\"RNN\"]\n",
    "\n",
    "for con in contents:\n",
    "    if con in[\"Regression\",\"Classfication\",\"SYM\",\"Clustering\",\"Demension reduction\"]:\n",
    "        print(\"%s 은(는) 기계학습 내용입니다.\"%con)\n",
    "    elif con in [\"CNN\"]:\n",
    "        print (\"%s 은(는) convolutional neural network 입니다.\"%con)\n",
    "    else:\n",
    "        print(\"%s은(는) 심층학습내용입니다.\")"
   ]
  },
  {
   "cell_type": "code",
   "execution_count": 4,
   "metadata": {},
   "outputs": [
    {
     "name": "stdout",
     "output_type": "stream",
     "text": [
      "[0/10]: Regression\n",
      "[1/10]: Classfication\n",
      "[2/10]: SYM\n",
      "[3/10]: Clustering\n",
      "[4/10]: Demension reduction\n",
      "[5/10]: NN\n",
      "[6/10]: CNN\n",
      "[7/10]: AE\n",
      "[8/10]: GAN\n",
      "[9/10]: RNN\n"
     ]
    }
   ],
   "source": [
    "for (i,con) in enumerate(contents):\n",
    "    print(\"[%d/%d]: %s\" %(i,len(contents),con))"
   ]
  },
  {
   "cell_type": "markdown",
   "metadata": {},
   "source": [
    "\n",
    "<h3 id=\"함수\">함수<a class=\"anchor-link\" href=\"#함수\">¶</a></h3>\n"
   ]
  },
  {
   "cell_type": "code",
   "execution_count": 5,
   "metadata": {},
   "outputs": [
    {
     "name": "stdout",
     "output_type": "stream",
     "text": [
      "10.0+20.0=30.0\n"
     ]
    }
   ],
   "source": [
    "def sum(a,b):\n",
    "    return a+b\n",
    "\n",
    "x=10.0\n",
    "y=20.0\n",
    "print(\"%.1f+%.1f=%.1f\"%(x,y,sum(x,y)))"
   ]
  },
  {
   "cell_type": "markdown",
   "metadata": {},
   "source": [
    "\n",
    "<h3 id=\"리스트\">리스트<a class=\"anchor-link\" href=\"#리스트\">¶</a></h3>\n"
   ]
  },
  {
   "cell_type": "code",
   "execution_count": 6,
   "metadata": {},
   "outputs": [
    {
     "ename": "SyntaxError",
     "evalue": "Missing parentheses in call to 'print'. Did you mean print(x)? (<ipython-input-6-966fdf2b6a6b>, line 15)",
     "output_type": "error",
     "traceback": [
      "\u001b[1;36m  File \u001b[1;32m\"<ipython-input-6-966fdf2b6a6b>\"\u001b[1;36m, line \u001b[1;32m15\u001b[0m\n\u001b[1;33m    print x\u001b[0m\n\u001b[1;37m          ^\u001b[0m\n\u001b[1;31mSyntaxError\u001b[0m\u001b[1;31m:\u001b[0m Missing parentheses in call to 'print'. Did you mean print(x)?\n"
     ]
    }
   ],
   "source": [
    "a=[]\n",
    "b=[1,2,3]\n",
    "c=[\"Hello\", \",\", \"world\"]\n",
    "d=[1,2,3,\"x\",\"y\",\"z\"]\n",
    "x=[]\n",
    "print(x)\n",
    "\n",
    "x.append('a')\n",
    "print(x)\n",
    "\n",
    "x.append(123)\n",
    "print(x)\n",
    "\n",
    "x.append([\"a\",\"b\"])\n",
    "print x"
   ]
  },
  {
   "cell_type": "markdown",
   "metadata": {},
   "source": [
    "\n",
    "<h3 id=\"딕셔너리\">딕셔너리<a class=\"anchor-link\" href=\"#딕셔너리\">¶</a></h3>\n"
   ]
  },
  {
   "cell_type": "code",
   "execution_count": 8,
   "metadata": {},
   "outputs": [
    {
     "name": "stdout",
     "output_type": "stream",
     "text": [
      "{'name': 'Heekyung', 'town': 'Goyang city', 'job': 'Assistant professor'}\n"
     ]
    }
   ],
   "source": [
    "dic = dict()\n",
    "dic[\"name\"]=\"Heekyung\"\n",
    "dic[\"town\"]=\"Goyang city\"\n",
    "dic[\"job\"]= \"Assistant professor\"\n",
    "print(dic)"
   ]
  },
  {
   "cell_type": "markdown",
   "metadata": {},
   "source": [
    "\n",
    "<h3 id=\"클래스\">클래스<a class=\"anchor-link\" href=\"#클래스\">¶</a></h3>\n"
   ]
  },
  {
   "cell_type": "code",
   "execution_count": 10,
   "metadata": {},
   "outputs": [
    {
     "name": "stdout",
     "output_type": "stream",
     "text": [
      "Heekyung 학생은 공부합니다.\n",
      "Heekyung 학생은 열심히 공부합니다.\n"
     ]
    }
   ],
   "source": [
    "class Student:\n",
    "    # 생성자\n",
    "    def __init__(self, name):\n",
    "        self.name = name\n",
    "    # 매써드\n",
    "    def study(self, hard=False):\n",
    "        if hard:\n",
    "            print(\"%s 학생은 열심히 공부합니다.\" %self.name)\n",
    "        else:\n",
    "            print(\"%s 학생은 공부합니다.\" %self.name)\n",
    "            \n",
    "s = Student('Heekyung')\n",
    "s.study()\n",
    "s.study(hard=True)"
   ]
  },
  {
   "cell_type": "code",
   "execution_count": null,
   "metadata": {
    "collapsed": true
   },
   "outputs": [],
   "source": [
    "\n",
    " \n",
    "\n"
   ]
  }
 ],
 "metadata": {
  "kernelspec": {
   "display_name": "Python 3",
   "language": "python",
   "name": "python3"
  },
  "language_info": {
   "codemirror_mode": {
    "name": "ipython",
    "version": 3
   },
   "file_extension": ".py",
   "mimetype": "text/x-python",
   "name": "python",
   "nbconvert_exporter": "python",
   "pygments_lexer": "ipython3",
   "version": "3.6.3"
  }
 },
 "nbformat": 4,
 "nbformat_minor": 1
}
