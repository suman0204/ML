{
 "cells": [
  {
   "cell_type": "code",
   "execution_count": 1,
   "metadata": {
    "collapsed": true
   },
   "outputs": [],
   "source": [
    "import numpy as np"
   ]
  },
  {
   "cell_type": "code",
   "execution_count": 2,
   "metadata": {
    "collapsed": true
   },
   "outputs": [],
   "source": [
    "def print_val(x):\n",
    "    print(\"Type\", type(x))\n",
    "    print(\"shape\",x.shape)\n",
    "    print(\"값:\\n\",x)\n",
    "    print(\" \")"
   ]
  },
  {
   "cell_type": "markdown",
   "metadata": {},
   "source": [
    "\n",
    "<h3 id=\"rank-1-np-array\">rank 1 np array<a class=\"anchor-link\" href=\"#rank-1-np-array\">¶</a></h3>\n"
   ]
  },
  {
   "cell_type": "code",
   "execution_count": 3,
   "metadata": {},
   "outputs": [
    {
     "name": "stdout",
     "output_type": "stream",
     "text": [
      "Type <class 'numpy.ndarray'>\n",
      "shape (3,)\n",
      "값:\n",
      " [1 2 3]\n",
      " \n",
      "Type <class 'numpy.ndarray'>\n",
      "shape (3,)\n",
      "값:\n",
      " [5 2 3]\n",
      " \n"
     ]
    }
   ],
   "source": [
    "x = np.array([1,2,3])\n",
    "print_val(x)\n",
    "\n",
    "x[0] = 5\n",
    "print_val(x)"
   ]
  },
  {
   "cell_type": "markdown",
   "metadata": {},
   "source": [
    "\n",
    "<h3 id=\"rank-2-np-array\">rank 2 np array<a class=\"anchor-link\" href=\"#rank-2-np-array\">¶</a></h3>\n"
   ]
  },
  {
   "cell_type": "code",
   "execution_count": 4,
   "metadata": {},
   "outputs": [
    {
     "name": "stdout",
     "output_type": "stream",
     "text": [
      "Type <class 'numpy.ndarray'>\n",
      "shape (2, 3)\n",
      "값:\n",
      " [[1 2 3]\n",
      " [4 5 6]]\n",
      " \n"
     ]
    }
   ],
   "source": [
    "y = np.array([[1,2,3],[4,5,6]])\n",
    "print_val(y)"
   ]
  },
  {
   "cell_type": "markdown",
   "metadata": {},
   "source": [
    "\n",
    "<h3 id=\"rank-2-zeros\">rank 2 zeros<a class=\"anchor-link\" href=\"#rank-2-zeros\">¶</a></h3>\n"
   ]
  },
  {
   "cell_type": "code",
   "execution_count": 5,
   "metadata": {},
   "outputs": [
    {
     "name": "stdout",
     "output_type": "stream",
     "text": [
      "Type <class 'numpy.ndarray'>\n",
      "shape (2, 2)\n",
      "값:\n",
      " [[ 0.  0.]\n",
      " [ 0.  0.]]\n",
      " \n"
     ]
    }
   ],
   "source": [
    "a = np.zeros((2,2))\n",
    "print_val(a)"
   ]
  },
  {
   "cell_type": "markdown",
   "metadata": {},
   "source": [
    "\n",
    "<h3 id=\"rank-2-ones\">rank 2 ones<a class=\"anchor-link\" href=\"#rank-2-ones\">¶</a></h3>\n"
   ]
  },
  {
   "cell_type": "code",
   "execution_count": 6,
   "metadata": {},
   "outputs": [
    {
     "name": "stdout",
     "output_type": "stream",
     "text": [
      "Type <class 'numpy.ndarray'>\n",
      "shape (3, 2)\n",
      "값:\n",
      " [[ 1.  1.]\n",
      " [ 1.  1.]\n",
      " [ 1.  1.]]\n",
      " \n"
     ]
    }
   ],
   "source": [
    "a = np.ones((3,2))\n",
    "print_val(a)"
   ]
  },
  {
   "cell_type": "markdown",
   "metadata": {},
   "source": [
    "\n",
    "<h3 id=\"rank-2-단위-행렬(identity-matrix)\">rank 2 단위 행렬(identity matrix)<a class=\"anchor-link\" href=\"#rank-2-단위-행렬(identity-matrix)\">¶</a></h3>\n"
   ]
  },
  {
   "cell_type": "code",
   "execution_count": 7,
   "metadata": {},
   "outputs": [
    {
     "name": "stdout",
     "output_type": "stream",
     "text": [
      "Type <class 'numpy.ndarray'>\n",
      "shape (3, 3)\n",
      "값:\n",
      " [[ 1.  0.  0.]\n",
      " [ 0.  1.  0.]\n",
      " [ 0.  0.  1.]]\n",
      " \n"
     ]
    }
   ],
   "source": [
    "a = np.eye(3,3)\n",
    "print_val(a)"
   ]
  },
  {
   "cell_type": "markdown",
   "metadata": {},
   "source": [
    "\n",
    "<h3 id=\"랜덤-행렬(uniform:-0~1-사이-모든-값들이-나올-확률이-같음)\">랜덤 행렬(uniform: 0~1 사이 모든 값들이 나올 확률이 같음)<a class=\"anchor-link\" href=\"#랜덤-행렬(uniform:-0~1-사이-모든-값들이-나올-확률이-같음)\">¶</a></h3>\n"
   ]
  },
  {
   "cell_type": "code",
   "execution_count": 8,
   "metadata": {},
   "outputs": [
    {
     "name": "stdout",
     "output_type": "stream",
     "text": [
      "Type <class 'numpy.ndarray'>\n",
      "shape (4, 4)\n",
      "값:\n",
      " [[ 0.17090819  0.74593638  0.88650723  0.45088508]\n",
      " [ 0.39700958  0.25305484  0.34065539  0.86770327]\n",
      " [ 0.06415281  0.33039932  0.77148646  0.19696165]\n",
      " [ 0.26986724  0.84745571  0.76408501  0.97879991]]\n",
      " \n"
     ]
    }
   ],
   "source": [
    "a = np.random.random((4,4))\n",
    "print_val(a)"
   ]
  },
  {
   "cell_type": "markdown",
   "metadata": {},
   "source": [
    "\n",
    "<h3 id=\"랜덤-행렬(Gaussian:-0을-평균으로-하는-가우시안-분포를-따르는-랜덤값)\">랜덤 행렬(Gaussian: 0을 평균으로 하는 가우시안 분포를 따르는 랜덤값)<a class=\"anchor-link\" href=\"#랜덤-행렬(Gaussian:-0을-평균으로-하는-가우시안-분포를-따르는-랜덤값)\">¶</a></h3>\n"
   ]
  },
  {
   "cell_type": "code",
   "execution_count": 9,
   "metadata": {},
   "outputs": [
    {
     "ename": "TypeError",
     "evalue": "'tuple' object cannot be interpreted as an integer",
     "output_type": "error",
     "traceback": [
      "\u001b[1;31m---------------------------------------------------------------------------\u001b[0m",
      "\u001b[1;31mTypeError\u001b[0m                                 Traceback (most recent call last)",
      "\u001b[1;32m<ipython-input-9-a8634e120d3e>\u001b[0m in \u001b[0;36m<module>\u001b[1;34m()\u001b[0m\n\u001b[1;32m----> 1\u001b[1;33m \u001b[0ma\u001b[0m \u001b[1;33m=\u001b[0m \u001b[0mnp\u001b[0m\u001b[1;33m.\u001b[0m\u001b[0mrandom\u001b[0m\u001b[1;33m.\u001b[0m\u001b[0mrandn\u001b[0m\u001b[1;33m(\u001b[0m\u001b[1;33m(\u001b[0m\u001b[1;36m4\u001b[0m\u001b[1;33m,\u001b[0m\u001b[1;36m4\u001b[0m\u001b[1;33m)\u001b[0m\u001b[1;33m)\u001b[0m\u001b[1;33m\u001b[0m\u001b[0m\n\u001b[0m\u001b[0;32m      2\u001b[0m \u001b[0mprint_val\u001b[0m\u001b[1;33m(\u001b[0m\u001b[0ma\u001b[0m\u001b[1;33m)\u001b[0m\u001b[1;33m\u001b[0m\u001b[0m\n",
      "\u001b[1;32mmtrand.pyx\u001b[0m in \u001b[0;36mmtrand.RandomState.randn\u001b[1;34m()\u001b[0m\n",
      "\u001b[1;32mmtrand.pyx\u001b[0m in \u001b[0;36mmtrand.RandomState.standard_normal\u001b[1;34m()\u001b[0m\n",
      "\u001b[1;32mmtrand.pyx\u001b[0m in \u001b[0;36mmtrand.cont0_array\u001b[1;34m()\u001b[0m\n",
      "\u001b[1;31mTypeError\u001b[0m: 'tuple' object cannot be interpreted as an integer"
     ]
    }
   ],
   "source": [
    "a = np.random.randn((4,4))\n",
    "print_val(a)"
   ]
  },
  {
   "cell_type": "markdown",
   "metadata": {},
   "source": [
    "\n",
    "<h3 id=\"np-array-indexing\">np array indexing<a class=\"anchor-link\" href=\"#np-array-indexing\">¶</a></h3>\n"
   ]
  },
  {
   "cell_type": "code",
   "execution_count": 10,
   "metadata": {},
   "outputs": [
    {
     "name": "stdout",
     "output_type": "stream",
     "text": [
      "Type <class 'numpy.ndarray'>\n",
      "shape (3, 4)\n",
      "값:\n",
      " [[ 1  2  3  4]\n",
      " [ 5  6  7  8]\n",
      " [ 9 10 11 12]]\n",
      " \n"
     ]
    }
   ],
   "source": [
    "a = np.array([[1,2,3,4],[5,6,7,8],[9,10,11,12]])\n",
    "print_val(a)"
   ]
  },
  {
   "cell_type": "code",
   "execution_count": 11,
   "metadata": {},
   "outputs": [
    {
     "name": "stdout",
     "output_type": "stream",
     "text": [
      "Type <class 'numpy.ndarray'>\n",
      "shape (2, 2)\n",
      "값:\n",
      " [[2 3]\n",
      " [6 7]]\n",
      " \n"
     ]
    }
   ],
   "source": [
    "b = a[:2,1:3] # 행 0~1, 열 1~2\n",
    "print_val(b)"
   ]
  },
  {
   "cell_type": "markdown",
   "metadata": {},
   "source": [
    "\n",
    "<h3 id=\"행렬의-n번째-행-얻기\">행렬의 n번째 행 얻기<a class=\"anchor-link\" href=\"#행렬의-n번째-행-얻기\">¶</a></h3>\n"
   ]
  },
  {
   "cell_type": "code",
   "execution_count": 12,
   "metadata": {},
   "outputs": [
    {
     "name": "stdout",
     "output_type": "stream",
     "text": [
      "Type <class 'numpy.ndarray'>\n",
      "shape (4,)\n",
      "값:\n",
      " [5 6 7 8]\n",
      " \n"
     ]
    }
   ],
   "source": [
    "row1 = a[1,:] # 1번째 행 전부를 원한다\n",
    "print_val(row1)"
   ]
  },
  {
   "cell_type": "markdown",
   "metadata": {},
   "source": [
    "\n",
    "<h3 id=\"행렬의-원소별-연사\">행렬의 원소별 연사<a class=\"anchor-link\" href=\"#행렬의-원소별-연사\">¶</a></h3>\n"
   ]
  },
  {
   "cell_type": "code",
   "execution_count": 13,
   "metadata": {
    "collapsed": true
   },
   "outputs": [],
   "source": [
    "m1 = np.array([[1,2],[3,4]], dtype=np.float64)\n",
    "m2 = np.array([[5,6],[7,8]], dtype=np.float64)"
   ]
  },
  {
   "cell_type": "code",
   "execution_count": 14,
   "metadata": {},
   "outputs": [
    {
     "name": "stdout",
     "output_type": "stream",
     "text": [
      "Type <class 'numpy.ndarray'>\n",
      "shape (2, 2)\n",
      "값:\n",
      " [[  6.   8.]\n",
      " [ 10.  12.]]\n",
      " \n",
      "Type <class 'numpy.ndarray'>\n",
      "shape (2, 2)\n",
      "값:\n",
      " [[  6.   8.]\n",
      " [ 10.  12.]]\n",
      " \n"
     ]
    }
   ],
   "source": [
    "# elementwise sum\n",
    "print_val(m1+m2)\n",
    "print_val(np.add(m1,m2))"
   ]
  },
  {
   "cell_type": "code",
   "execution_count": 15,
   "metadata": {},
   "outputs": [
    {
     "name": "stdout",
     "output_type": "stream",
     "text": [
      "Type <class 'numpy.ndarray'>\n",
      "shape (2, 2)\n",
      "값:\n",
      " [[-4. -4.]\n",
      " [-4. -4.]]\n",
      " \n",
      "Type <class 'numpy.ndarray'>\n",
      "shape (2, 2)\n",
      "값:\n",
      " [[-4. -4.]\n",
      " [-4. -4.]]\n",
      " \n"
     ]
    }
   ],
   "source": [
    "# elementwise difference\n",
    "print_val(m1-m2)\n",
    "print_val(np.subtract(m1,m2))"
   ]
  },
  {
   "cell_type": "code",
   "execution_count": 16,
   "metadata": {},
   "outputs": [
    {
     "name": "stdout",
     "output_type": "stream",
     "text": [
      "Type <class 'numpy.ndarray'>\n",
      "shape (2, 2)\n",
      "값:\n",
      " [[  5.  12.]\n",
      " [ 21.  32.]]\n",
      " \n",
      "Type <class 'numpy.ndarray'>\n",
      "shape (2, 2)\n",
      "값:\n",
      " [[  5.  12.]\n",
      " [ 21.  32.]]\n",
      " \n"
     ]
    }
   ],
   "source": [
    "#elementwise product\n",
    "print_val(m1*m2)\n",
    "print_val(np.multiply(m1,m2))"
   ]
  },
  {
   "cell_type": "code",
   "execution_count": 17,
   "metadata": {},
   "outputs": [
    {
     "name": "stdout",
     "output_type": "stream",
     "text": [
      "Type <class 'numpy.ndarray'>\n",
      "shape (2, 2)\n",
      "값:\n",
      " [[ 0.2         0.33333333]\n",
      " [ 0.42857143  0.5       ]]\n",
      " \n",
      "Type <class 'numpy.ndarray'>\n",
      "shape (2, 2)\n",
      "값:\n",
      " [[ 0.2         0.33333333]\n",
      " [ 0.42857143  0.5       ]]\n",
      " \n"
     ]
    }
   ],
   "source": [
    "# elementwise division\n",
    "print_val(m1/m2)\n",
    "print_val(np.divide(m1,m2))"
   ]
  },
  {
   "cell_type": "code",
   "execution_count": 18,
   "metadata": {},
   "outputs": [
    {
     "name": "stdout",
     "output_type": "stream",
     "text": [
      "Type <class 'numpy.ndarray'>\n",
      "shape (2, 2)\n",
      "값:\n",
      " [[ 1.          1.41421356]\n",
      " [ 1.73205081  2.        ]]\n",
      " \n"
     ]
    }
   ],
   "source": [
    "#elementwise square root\n",
    "print_val(np.sqrt(m1))"
   ]
  },
  {
   "cell_type": "markdown",
   "metadata": {},
   "source": [
    "\n",
    "<h3 id=\"행렬-연산\">행렬 연산<a class=\"anchor-link\" href=\"#행렬-연산\">¶</a></h3>\n"
   ]
  },
  {
   "cell_type": "code",
   "execution_count": 19,
   "metadata": {},
   "outputs": [
    {
     "name": "stdout",
     "output_type": "stream",
     "text": [
      "Type <class 'numpy.ndarray'>\n",
      "shape (2, 2)\n",
      "값:\n",
      " [[1 2]\n",
      " [3 4]]\n",
      " \n",
      "Type <class 'numpy.ndarray'>\n",
      "shape (2, 2)\n",
      "값:\n",
      " [[5 6]\n",
      " [7 8]]\n",
      " \n",
      "Type <class 'numpy.ndarray'>\n",
      "shape (2,)\n",
      "값:\n",
      " [ 9 10]\n",
      " \n",
      "Type <class 'numpy.ndarray'>\n",
      "shape (2,)\n",
      "값:\n",
      " [11 12]\n",
      " \n"
     ]
    }
   ],
   "source": [
    "m1 = np.array([[1,2],[3,4]]) #(2,2)\n",
    "m2 = np.array([[5,6],[7,8]]) #(2,2)\n",
    "v1 = np.array([9,10]) #(2,1) #[[9,10]] (1,2)\n",
    "v2 = np.array([11,12]) #(2,1)\n",
    "\n",
    "print_val(m1)\n",
    "print_val(m2)\n",
    "print_val(v1)\n",
    "print_val(v2)"
   ]
  },
  {
   "cell_type": "markdown",
   "metadata": {},
   "source": [
    "\n",
    "<h3 id=\"벡터-벡터-연산-(내적-연산)\">벡터-벡터 연산 (내적 연산)<a class=\"anchor-link\" href=\"#벡터-벡터-연산-(내적-연산)\">¶</a></h3>\n"
   ]
  },
  {
   "cell_type": "code",
   "execution_count": 20,
   "metadata": {},
   "outputs": [
    {
     "name": "stdout",
     "output_type": "stream",
     "text": [
      "Type <class 'numpy.int32'>\n",
      "shape ()\n",
      "값:\n",
      " 219\n",
      " \n",
      "Type <class 'numpy.int32'>\n",
      "shape ()\n",
      "값:\n",
      " 219\n",
      " \n"
     ]
    }
   ],
   "source": [
    "print_val(v1.dot(v2)) # dot product: 내적\n",
    "print_val(np.dot(v1,v2))"
   ]
  },
  {
   "cell_type": "markdown",
   "metadata": {},
   "source": [
    "\n",
    "<h3 id=\"벡터-행렬-연산\">벡터-행렬 연산<a class=\"anchor-link\" href=\"#벡터-행렬-연산\">¶</a></h3>\n"
   ]
  },
  {
   "cell_type": "code",
   "execution_count": 21,
   "metadata": {},
   "outputs": [
    {
     "name": "stdout",
     "output_type": "stream",
     "text": [
      "Type <class 'numpy.ndarray'>\n",
      "shape (2,)\n",
      "값:\n",
      " [29 67]\n",
      " \n",
      "Type <class 'numpy.ndarray'>\n",
      "shape (2,)\n",
      "값:\n",
      " [29 67]\n",
      " \n"
     ]
    }
   ],
   "source": [
    "print_val(m1.dot(v1))\n",
    "print_val(np.dot(m1,v1))"
   ]
  },
  {
   "cell_type": "markdown",
   "metadata": {},
   "source": [
    "\n",
    "<h3 id=\"행렬-행렬-연산\">행렬-행렬 연산<a class=\"anchor-link\" href=\"#행렬-행렬-연산\">¶</a></h3>\n"
   ]
  },
  {
   "cell_type": "code",
   "execution_count": 22,
   "metadata": {},
   "outputs": [
    {
     "name": "stdout",
     "output_type": "stream",
     "text": [
      "Type <class 'numpy.ndarray'>\n",
      "shape (2, 2)\n",
      "값:\n",
      " [[19 22]\n",
      " [43 50]]\n",
      " \n",
      "Type <class 'numpy.ndarray'>\n",
      "shape (2, 2)\n",
      "값:\n",
      " [[19 22]\n",
      " [43 50]]\n",
      " \n"
     ]
    }
   ],
   "source": [
    "print_val(m1.dot(m2))\n",
    "print_val(np.dot(m1,m2))"
   ]
  },
  {
   "cell_type": "markdown",
   "metadata": {},
   "source": [
    "\n",
    "<h3 id=\"전치-행렬(transpose)\">전치 행렬(transpose)<a class=\"anchor-link\" href=\"#전치-행렬(transpose)\">¶</a></h3>\n"
   ]
  },
  {
   "cell_type": "code",
   "execution_count": 23,
   "metadata": {},
   "outputs": [
    {
     "name": "stdout",
     "output_type": "stream",
     "text": [
      "Type <class 'numpy.ndarray'>\n",
      "shape (2, 2)\n",
      "값:\n",
      " [[1 2]\n",
      " [3 4]]\n",
      " \n",
      "Type <class 'numpy.ndarray'>\n",
      "shape (2, 2)\n",
      "값:\n",
      " [[1 3]\n",
      " [2 4]]\n",
      " \n"
     ]
    }
   ],
   "source": [
    "print_val(m1)\n",
    "print_val(m1.T)"
   ]
  },
  {
   "cell_type": "markdown",
   "metadata": {},
   "source": [
    "\n",
    "<h3 id=\"합\">합<a class=\"anchor-link\" href=\"#합\">¶</a></h3>\n"
   ]
  },
  {
   "cell_type": "code",
   "execution_count": 24,
   "metadata": {},
   "outputs": [
    {
     "name": "stdout",
     "output_type": "stream",
     "text": [
      "Type <class 'numpy.int32'>\n",
      "shape ()\n",
      "값:\n",
      " 10\n",
      " \n",
      "Type <class 'numpy.ndarray'>\n",
      "shape (2,)\n",
      "값:\n",
      " [4 6]\n",
      " \n",
      "Type <class 'numpy.ndarray'>\n",
      "shape (2,)\n",
      "값:\n",
      " [3 7]\n",
      " \n"
     ]
    }
   ],
   "source": [
    "print_val(np.sum(m1)) #행렬의 모든 원소의 합\n",
    "print_val(np.sum(m1,axis=0)) #shape[0](행) 을 압축시키다 (2,2)->(2,)\n",
    "print_val(np.sum(m1,axis=1)) #shape[1](열) 을 압축시키자 (2,2)->(2,)"
   ]
  },
  {
   "cell_type": "code",
   "execution_count": 26,
   "metadata": {},
   "outputs": [
    {
     "name": "stdout",
     "output_type": "stream",
     "text": [
      "[[1 2 3]\n",
      " [4 5 6]]\n",
      "(2, 3)\n"
     ]
    }
   ],
   "source": [
    "m1 = np.array([[1,2,3],[4,5,6]])\n",
    "print(m1)\n",
    "print(m1.shape) # (2,3)"
   ]
  },
  {
   "cell_type": "code",
   "execution_count": 27,
   "metadata": {},
   "outputs": [
    {
     "name": "stdout",
     "output_type": "stream",
     "text": [
      "21\n",
      "[5 7 9]\n",
      "[ 6 15]\n"
     ]
    }
   ],
   "source": [
    "print(np.sum(m1))\n",
    "print(np.sum(m1,axis=0)) #shape[0] (행) 을 압축시키자 (2,3) -> (3,)\n",
    "print(np.sum(m1,axis=1)) #shape[1] (행) 을 압축시키자 (2,3) -> (2,)"
   ]
  },
  {
   "cell_type": "markdown",
   "metadata": {},
   "source": [
    "\n",
    "<h3 id=\"zeros-like\">zeros-like<a class=\"anchor-link\" href=\"#zeros-like\">¶</a></h3>\n"
   ]
  },
  {
   "cell_type": "code",
   "execution_count": 28,
   "metadata": {},
   "outputs": [
    {
     "name": "stdout",
     "output_type": "stream",
     "text": [
      "Type <class 'numpy.ndarray'>\n",
      "shape (4, 3)\n",
      "값:\n",
      " [[ 1  2  3]\n",
      " [ 4  5  6]\n",
      " [ 7  8  9]\n",
      " [10 11 12]]\n",
      " \n",
      "Type <class 'numpy.ndarray'>\n",
      "shape (4, 3)\n",
      "값:\n",
      " [[0 0 0]\n",
      " [0 0 0]\n",
      " [0 0 0]\n",
      " [0 0 0]]\n",
      " \n"
     ]
    }
   ],
   "source": [
    "m1 = np.array([[1,2,3],\n",
    "              [4,5,6],\n",
    "              [7,8,9],\n",
    "              [10,11,12]])\n",
    "m2 = np.zeros_like(m1) # m1과 같은 형태의 0으로 이루어진 np array\n",
    "print_val(m1)\n",
    "print_val(m2)"
   ]
  },
  {
   "cell_type": "markdown",
   "metadata": {},
   "source": [
    "\n",
    "<h3 id=\"Matplot-library\">Matplot library<a class=\"anchor-link\" href=\"#Matplot-library\">¶</a></h3>\n"
   ]
  },
  {
   "cell_type": "code",
   "execution_count": 29,
   "metadata": {
    "collapsed": true
   },
   "outputs": [],
   "source": [
    "import matplotlib.pyplot as plt\n",
    "%matplotlib inline"
   ]
  },
  {
   "cell_type": "code",
   "execution_count": 30,
   "metadata": {},
   "outputs": [
    {
     "data": {
      "text/plain": [
       "[<matplotlib.lines.Line2D at 0x210b9e0dcf8>]"
      ]
     },
     "execution_count": 30,
     "metadata": {},
     "output_type": "execute_result"
    },
    {
     "data": {
      "image/png": "[encoded data removed]",
      "text/plain": [
       "<matplotlib.figure.Figure at 0x210b9c25710>"
      ]
     },
     "metadata": {},
     "output_type": "display_data"
    }
   ],
   "source": [
    "#sin 커브\n",
    "x = np.arange(0,10,0.1) #0~10 까지 0.1 간격의 숫자 배열\n",
    "y = np.sin(x)\n",
    "\n",
    "plt.plot(x,y)"
   ]
  },
  {
   "cell_type": "markdown",
   "metadata": {},
   "source": [
    "\n",
    "<h3 id=\"한-번에-두-개-그래프-그리기\">한 번에 두 개 그래프 그리기<a class=\"anchor-link\" href=\"#한-번에-두-개-그래프-그리기\">¶</a></h3>\n"
   ]
  },
  {
   "cell_type": "code",
   "execution_count": 31,
   "metadata": {},
   "outputs": [
    {
     "data": {
      "image/png": "[encoded data removed]",
      "text/plain": [
       "<matplotlib.figure.Figure at 0x210b9ddd748>"
      ]
     },
     "metadata": {},
     "output_type": "display_data"
    }
   ],
   "source": [
    "y_sin = np.sin(x)\n",
    "y_cos = np.cos(x)\n",
    "\n",
    "plt.plot(x, y_sin)\n",
    "plt.plot(x, y_cos)\n",
    "plt.xlabel('x axis label')\n",
    "plt.ylabel('y axis label')\n",
    "plt.title('sin and cos')\n",
    "plt.legend(['sin','cos'])\n",
    "\n",
    "plt.show()"
   ]
  },
  {
   "cell_type": "markdown",
   "metadata": {},
   "source": [
    "\n",
    "<h3 id=\"Subplot\">Subplot<a class=\"anchor-link\" href=\"#Subplot\">¶</a></h3>\n"
   ]
  },
  {
   "cell_type": "code",
   "execution_count": 32,
   "metadata": {},
   "outputs": [
    {
     "data": {
      "image/png": "[encoded data removed]",
      "text/plain": [
       "<matplotlib.figure.Figure at 0x210b9ddd630>"
      ]
     },
     "metadata": {},
     "output_type": "display_data"
    }
   ],
   "source": [
    "plt.subplot(2,1,1) # (2,1) 형태 플랏의 첫 번째 자리에 그리겠다\n",
    "plt.plot(x, y_sin)\n",
    "plt.title('sin')\n",
    "\n",
    "plt.subplot(2,1,2)\n",
    "plt.plot(x,y_cos)\n",
    "plt.title('cos')\n",
    "\n",
    "plt.show()"
   ]
  },
  {
   "cell_type": "code",
   "execution_count": null,
   "metadata": {
    "collapsed": true
   },
   "outputs": [],
   "source": [
    "\n",
    " \n",
    "\n"
   ]
  }
 ],
 "metadata": {
  "kernelspec": {
   "display_name": "Python 3",
   "language": "python",
   "name": "python3"
  },
  "language_info": {
   "codemirror_mode": {
    "name": "ipython",
    "version": 3
   },
   "file_extension": ".py",
   "mimetype": "text/x-python",
   "name": "python",
   "nbconvert_exporter": "python",
   "pygments_lexer": "ipython3",
   "version": "3.6.3"
  }
 },
 "nbformat": 4,
 "nbformat_minor": 1
}
